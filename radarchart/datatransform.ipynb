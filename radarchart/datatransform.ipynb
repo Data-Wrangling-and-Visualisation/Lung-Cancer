{
 "cells": [
  {
   "cell_type": "code",
   "execution_count": 20,
   "id": "1995dfaf",
   "metadata": {},
   "outputs": [],
   "source": [
    "import pandas as pd\n",
    "import json\n",
    "\n",
    "data = pd.read_csv(\"radarchart_data.csv\")\n",
    "\n",
    "symptoms = [\n",
    "    \"SMOKING\", \"YELLOW_FINGERS\", \"ANXIETY\", \"CHRONIC_DISEASE\", \"FATIGUE\",\n",
    "    \"ALLERGY\", \"WHEEZING\", \"ALCOHOL_CONSUMING\", \"COUGHING\", \"SHORTNESS_OF_BREATH\",\n",
    "    \"SWALLOWING_DIFFICULTY\", \"CHEST_PAIN\"\n",
    "]\n",
    "\n",
    "dataset = []\n",
    "\n",
    "for _, row in data.iterrows():\n",
    "    d = {\"age_group\": row[\"AgeGroup\"]} \n",
    "    d.update({symptom: row[symptom] for symptom in symptoms}) \n",
    "    dataset.append(d)\n",
    "\n",
    "with open(\"radarchart_data.json\", \"w\") as f:\n",
    "    json.dump(dataset, f, indent=2)\n"
   ]
  },
  {
   "cell_type": "code",
   "execution_count": 16,
   "id": "a1c4e2cf",
   "metadata": {},
   "outputs": [
    {
     "data": {
      "text/plain": [
       "0    30-39\n",
       "1    40-49\n",
       "2    50-59\n",
       "3    60-69\n",
       "4    70-79\n",
       "5    80-89\n",
       "Name: AgeGroup, dtype: object"
      ]
     },
     "execution_count": 16,
     "metadata": {},
     "output_type": "execute_result"
    }
   ],
   "source": [
    "data['AgeGroup']"
   ]
  }
 ],
 "metadata": {
  "kernelspec": {
   "display_name": "Python 3",
   "language": "python",
   "name": "python3"
  },
  "language_info": {
   "codemirror_mode": {
    "name": "ipython",
    "version": 3
   },
   "file_extension": ".py",
   "mimetype": "text/x-python",
   "name": "python",
   "nbconvert_exporter": "python",
   "pygments_lexer": "ipython3",
   "version": "3.12.6"
  }
 },
 "nbformat": 4,
 "nbformat_minor": 5
}
