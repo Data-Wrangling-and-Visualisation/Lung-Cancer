{
 "cells": [
  {
   "cell_type": "code",
   "id": "initial_id",
   "metadata": {
    "collapsed": true,
    "ExecuteTime": {
     "end_time": "2025-04-13T07:15:08.038274Z",
     "start_time": "2025-04-13T07:15:08.022255Z"
    }
   },
   "source": [
    "import pandas as pd\n",
    "\n",
    "data = pd.read_csv('lung-cancer-dataset/dataset.csv')\n",
    "\n",
    "print(data.head())\n"
   ],
   "outputs": [
    {
     "name": "stdout",
     "output_type": "stream",
     "text": [
      "  GENDER  AGE  SMOKING  YELLOW_FINGERS  ANXIETY  PEER_PRESSURE  \\\n",
      "0      M   65        1               1        1              2   \n",
      "1      F   55        1               2        2              1   \n",
      "2      F   78        2               2        1              1   \n",
      "3      M   60        2               1        1              1   \n",
      "4      F   80        1               1        2              1   \n",
      "\n",
      "   CHRONIC_DISEASE  FATIGUE  ALLERGY  WHEEZING  ALCOHOL_CONSUMING  COUGHING  \\\n",
      "0                2        1        2         2                  2         2   \n",
      "1                1        2        2         2                  1         1   \n",
      "2                1        2        1         2                  1         1   \n",
      "3                2        1        2         1                  1         2   \n",
      "4                1        2        1         2                  1         1   \n",
      "\n",
      "   SHORTNESS_OF_BREATH  SWALLOWING_DIFFICULTY  CHEST_PAIN LUNG_CANCER  \n",
      "0                    2                      2           1          NO  \n",
      "1                    1                      2           2          NO  \n",
      "2                    2                      1           1         YES  \n",
      "3                    1                      2           2         YES  \n",
      "4                    1                      1           2          NO  \n"
     ]
    }
   ],
   "execution_count": 1
  },
  {
   "metadata": {
    "ExecuteTime": {
     "end_time": "2025-04-13T07:15:09.146029Z",
     "start_time": "2025-04-13T07:15:09.140202Z"
    }
   },
   "cell_type": "code",
   "source": [
    "# Check for missing values across all columns in the dataset.\n",
    "# This helps identify any incomplete or corrupt data entries that might need to be handled.\n",
    "print(data.isnull().sum())"
   ],
   "id": "8b89593a0882455d",
   "outputs": [
    {
     "name": "stdout",
     "output_type": "stream",
     "text": [
      "GENDER                   0\n",
      "AGE                      0\n",
      "SMOKING                  0\n",
      "YELLOW_FINGERS           0\n",
      "ANXIETY                  0\n",
      "PEER_PRESSURE            0\n",
      "CHRONIC_DISEASE          0\n",
      "FATIGUE                  0\n",
      "ALLERGY                  0\n",
      "WHEEZING                 0\n",
      "ALCOHOL_CONSUMING        0\n",
      "COUGHING                 0\n",
      "SHORTNESS_OF_BREATH      0\n",
      "SWALLOWING_DIFFICULTY    0\n",
      "CHEST_PAIN               0\n",
      "LUNG_CANCER              0\n",
      "dtype: int64\n"
     ]
    }
   ],
   "execution_count": 2
  },
  {
   "metadata": {
    "ExecuteTime": {
     "end_time": "2025-04-13T07:15:10.037085Z",
     "start_time": "2025-04-13T07:15:10.025761Z"
    }
   },
   "cell_type": "code",
   "source": [
    "# Convert categorical values in the 'GENDER' column to numerical codes:\n",
    "# 'M' (male) is encoded as 1, and 'F' (female) is encoded as 2.\n",
    "data[\"GENDER\"] = data[\"GENDER\"].map({\"M\": 1, \"F\": 2})\n",
    "\n",
    "# Similarly, encode the 'LUNG_CANCER' diagnosis column:\n",
    "# 'YES' is converted to 1 (positive diagnosis), and 'NO' is converted to 2 (negative diagnosis).\n",
    "data[\"LUNG_CANCER\"] = data[\"LUNG_CANCER\"].map({\"YES\": 1, \"NO\": 2})\n",
    "\n",
    "# Display the first five rows again to confirm that the transformation was applied correctly.\n",
    "print(data.head())"
   ],
   "id": "238ddf00832bc64",
   "outputs": [
    {
     "name": "stdout",
     "output_type": "stream",
     "text": [
      "   GENDER  AGE  SMOKING  YELLOW_FINGERS  ANXIETY  PEER_PRESSURE  \\\n",
      "0       1   65        1               1        1              2   \n",
      "1       2   55        1               2        2              1   \n",
      "2       2   78        2               2        1              1   \n",
      "3       1   60        2               1        1              1   \n",
      "4       2   80        1               1        2              1   \n",
      "\n",
      "   CHRONIC_DISEASE  FATIGUE  ALLERGY  WHEEZING  ALCOHOL_CONSUMING  COUGHING  \\\n",
      "0                2        1        2         2                  2         2   \n",
      "1                1        2        2         2                  1         1   \n",
      "2                1        2        1         2                  1         1   \n",
      "3                2        1        2         1                  1         2   \n",
      "4                1        2        1         2                  1         1   \n",
      "\n",
      "   SHORTNESS_OF_BREATH  SWALLOWING_DIFFICULTY  CHEST_PAIN  LUNG_CANCER  \n",
      "0                    2                      2           1            2  \n",
      "1                    1                      2           2            2  \n",
      "2                    2                      1           1            1  \n",
      "3                    1                      2           2            1  \n",
      "4                    1                      1           2            2  \n"
     ]
    }
   ],
   "execution_count": 3
  },
  {
   "metadata": {
    "ExecuteTime": {
     "end_time": "2025-04-13T07:15:10.999950Z",
     "start_time": "2025-04-13T07:15:10.969996Z"
    }
   },
   "cell_type": "code",
   "source": [
    "data.to_csv('cleaned_data.csv', index=False)\n",
    "data.to_json('cleaned_data.json',  orient='records')"
   ],
   "id": "1acad94bff4ff445",
   "outputs": [],
   "execution_count": 4
  },
  {
   "metadata": {},
   "cell_type": "code",
   "outputs": [],
   "execution_count": null,
   "source": "",
   "id": "69277e6d0f52e722"
  }
 ],
 "metadata": {
  "kernelspec": {
   "display_name": "Python 3",
   "language": "python",
   "name": "python3"
  },
  "language_info": {
   "codemirror_mode": {
    "name": "ipython",
    "version": 2
   },
   "file_extension": ".py",
   "mimetype": "text/x-python",
   "name": "python",
   "nbconvert_exporter": "python",
   "pygments_lexer": "ipython2",
   "version": "2.7.6"
  }
 },
 "nbformat": 4,
 "nbformat_minor": 5
}
